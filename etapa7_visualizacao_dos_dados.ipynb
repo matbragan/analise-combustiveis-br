{
 "cells": [
  {
   "cell_type": "code",
   "execution_count": null,
   "metadata": {},
   "outputs": [],
   "source": [
    "# importação das bibliotecas\n",
    "import mysql.connector as connection\n",
    "import pandas as pd\n",
    "import plotly.express as px"
   ]
  },
  {
   "cell_type": "code",
   "execution_count": null,
   "metadata": {},
   "outputs": [],
   "source": [
    "# conexão com mysql e criação do pandas dataframe\n",
    "try:\n",
    "    mydb = connection.connect(\n",
    "        host='localhost', \n",
    "        database = 'combustivel',\n",
    "        user='root', \n",
    "        passwd='familiaunida420')\n",
    "    \n",
    "    query_2020 = 'select * from combustivel_automotivo_2020;'\n",
    "    df_2020 = pd.read_sql(query_2020, mydb)\n",
    "\n",
    "    query_2021 = 'select * from combustivel_automotivo_2021;'\n",
    "    df_2021 = pd.read_sql(query_2021, mydb)\n",
    "\n",
    "    mydb.close()\n",
    "except Exception as e:\n",
    "    mydb.close()\n",
    "    print(str(e))\n",
    "\n",
    "df = pd.concat([df_2020, df_2021])"
   ]
  },
  {
   "cell_type": "code",
   "execution_count": null,
   "metadata": {},
   "outputs": [],
   "source": [
    "# criação de colunas no dataframe\n",
    "df['ano_data_coleta'] = pd.to_datetime(df.data_coleta).dt.to_period('Y').astype(str)\n",
    "df['mes_data_coleta'] = pd.to_datetime(df.data_coleta).dt.to_period('M').astype(str)"
   ]
  },
  {
   "cell_type": "code",
   "execution_count": null,
   "metadata": {},
   "outputs": [],
   "source": [
    "# visualização dos dados no dataframe\n",
    "df.head()"
   ]
  },
  {
   "cell_type": "code",
   "execution_count": null,
   "metadata": {},
   "outputs": [],
   "source": [
    "# funções auxiliares para criações dos gráficos \n",
    "def groupby_mean(df, groupby, mean):\n",
    "    df_groupby = df.groupby(groupby).mean(mean).reset_index()\n",
    "    return df_groupby\n",
    "\n",
    "def groupby_count(df, groupby):\n",
    "    df_groupby = df.groupby(groupby).size().reset_index(name='count')\n",
    "    return df_groupby"
   ]
  },
  {
   "cell_type": "code",
   "execution_count": null,
   "metadata": {},
   "outputs": [],
   "source": [
    "# bar chart - média do valor de venda por uf\n",
    "media_valor_venda_uf = groupby_mean(df, ['regiao_sigla', 'uf', 'ano_data_coleta'], 'valor_venda')\n",
    "\n",
    "fig = px.line(media_valor_venda_uf, x='uf', y='valor_venda', color='ano_data_coleta',\n",
    "            hover_data=['regiao_sigla'], title='Média do Valor de Venda por UF')\n",
    "fig.update_layout(yaxis_range = [0.1, 7])\n",
    "fig.show()"
   ]
  },
  {
   "cell_type": "code",
   "execution_count": null,
   "metadata": {},
   "outputs": [],
   "source": [
    "# line chart - média do valor de venda por dia\n",
    "media_valor_venda_data = groupby_mean(df, ['data_coleta', 'mes_data_coleta'], 'valor_venda')\n",
    "\n",
    "fig = px.line(media_valor_venda_data, x='data_coleta', y='valor_venda', title='Média do Valor de Venda por Dia')\n",
    "fig.update_layout(yaxis_range = [0.1, 7])\n",
    "fig.show()"
   ]
  },
  {
   "cell_type": "code",
   "execution_count": null,
   "metadata": {},
   "outputs": [],
   "source": [
    "# line chart - média do valor de venda por mês\n",
    "media_valor_venda_mes = groupby_mean(df, 'mes_data_coleta', 'valor_venda')\n",
    "\n",
    "fig = px.line(media_valor_venda_mes, x='mes_data_coleta', y='valor_venda', title='Média do Valor de Venda por Mês')\n",
    "fig.update_layout(yaxis_range = [0.1, 7])\n",
    "fig.show()"
   ]
  },
  {
   "cell_type": "code",
   "execution_count": null,
   "metadata": {},
   "outputs": [],
   "source": [
    "# boxplot - dispersão dos valores de venda por uf\n",
    "dispersao_valor_venda_uf = df[['regiao_sigla', 'uf', 'produto', 'valor_venda']]\n",
    "\n",
    "fig = px.box(dispersao_valor_venda_uf, x='uf', y='valor_venda', title='Dispersão dos Valores de Venda por UF')\n",
    "fig.show()"
   ]
  },
  {
   "cell_type": "code",
   "execution_count": null,
   "metadata": {},
   "outputs": [],
   "source": [
    "# boxplot - dispersão dos valores de venda por uf separado por produto\n",
    "fig = px.box(dispersao_valor_venda_uf, x='uf', y='valor_venda', facet_row='produto', color='produto', boxmode='overlay')\n",
    "fig.update_layout(width=2000, height=2000)\n",
    "fig.show()"
   ]
  },
  {
   "cell_type": "code",
   "execution_count": null,
   "metadata": {},
   "outputs": [],
   "source": [
    "# bar chart - média do valor de venda por produto\n",
    "media_valor_venda_produto = groupby_mean(df, 'produto', 'valor_venda')\n",
    "\n",
    "fig = px.bar(media_valor_venda_produto, x='valor_venda', y='produto', title='Média do Valor de Venda por Produto')\n",
    "fig.update_layout(xaxis_range = [0.1, 6.2])\n",
    "fig.show()"
   ]
  },
  {
   "cell_type": "code",
   "execution_count": null,
   "metadata": {},
   "outputs": [],
   "source": [
    "# pie chart - distribuição da quantidade de vendas por produto\n",
    "quantidade_vendas_produto = groupby_count(df, 'produto')\n",
    "\n",
    "fig = px.pie(quantidade_vendas_produto, names='produto', values='count', title='Distribuição da Quantidade de Vendas por Produto')\n",
    "fig.update_traces(textposition='outside', textinfo='percent+label')\n",
    "fig.show()"
   ]
  },
  {
   "cell_type": "code",
   "execution_count": null,
   "metadata": {},
   "outputs": [],
   "source": [
    "# pie chart - distribuição da quantidade de vendas por bandeira\n",
    "quantidade_vendas_bandeira = groupby_count(df, 'bandeira')\n",
    "top6_quantidade_vendas_bandeira = quantidade_vendas_bandeira.sort_values('count', ascending=False).head(6)\n",
    "\n",
    "fig = px.pie(top6_quantidade_vendas_bandeira, names='bandeira', values='count', title='Distribuição da Quantidade de Vendas por Bandeira, Top 6')\n",
    "fig.update_traces(textposition='outside', textinfo='percent+label')\n",
    "fig.show()"
   ]
  },
  {
   "cell_type": "code",
   "execution_count": null,
   "metadata": {},
   "outputs": [],
   "source": [
    "# bar chart - média do valor de venda por bandeira\n",
    "media_valor_venda_bandeira = groupby_mean(df, 'bandeira', 'valor_venda')\n",
    "media_valor_venda_bandeira['asc_rank_valor_venda'] = media_valor_venda_bandeira['valor_venda'].rank()\n",
    "top15_media_valor_venda_bandeira = media_valor_venda_bandeira.sort_values('valor_venda', ascending=False).head(15)\n",
    "\n",
    "fig = px.bar(top15_media_valor_venda_bandeira, x='valor_venda', y='bandeira', title='Média do Valor de Venda por Bandeira, Top 15')\n",
    "fig.update_layout(xaxis_range = [0.1, 6.2])\n",
    "fig.show()"
   ]
  },
  {
   "cell_type": "code",
   "execution_count": null,
   "metadata": {},
   "outputs": [],
   "source": [
    "# table - preço médio e rank das 6 bandeiras mais consumidas\n",
    "media_valor_venda_bandeira[media_valor_venda_bandeira['bandeira'].isin(top6_quantidade_vendas_bandeira['bandeira'])].sort_values('asc_rank_valor_venda')"
   ]
  }
 ],
 "metadata": {
  "kernelspec": {
   "display_name": "Python 3.10.6 64-bit",
   "language": "python",
   "name": "python3"
  },
  "language_info": {
   "codemirror_mode": {
    "name": "ipython",
    "version": 3
   },
   "file_extension": ".py",
   "mimetype": "text/x-python",
   "name": "python",
   "nbconvert_exporter": "python",
   "pygments_lexer": "ipython3",
   "version": "3.10.6"
  },
  "orig_nbformat": 4,
  "vscode": {
   "interpreter": {
    "hash": "916dbcbb3f70747c44a77c7bcd40155683ae19c65e1c03b4aa3499c5328201f1"
   }
  }
 },
 "nbformat": 4,
 "nbformat_minor": 2
}
